{
  "nbformat": 4,
  "nbformat_minor": 0,
  "metadata": {
    "colab": {
      "provenance": [],
      "include_colab_link": true
    },
    "kernelspec": {
      "name": "python3",
      "display_name": "Python 3"
    },
    "language_info": {
      "name": "python"
    }
  },
  "cells": [
    {
      "cell_type": "markdown",
      "metadata": {
        "id": "view-in-github",
        "colab_type": "text"
      },
      "source": [
        "<a href=\"https://colab.research.google.com/github/Wata22109/Git-Playground/blob/main/%E8%AA%B2%E9%A1%8C05_26_HW.ipynb\" target=\"_parent\"><img src=\"https://colab.research.google.com/assets/colab-badge.svg\" alt=\"Open In Colab\"/></a>"
      ]
    },
    {
      "cell_type": "markdown",
      "source": [
        "# **プログラムの名称**\n",
        "**帰宅効率化アプリ**\n",
        "## **概要**\n",
        "\n",
        "このプログラムは中之島方面に行く電車が現在時刻から何分後に寝屋川市に到着するか表示するプログラムです。また、到着するまでの時間によって学校から歩いても間に合うのか、急ぐべきなのかを表示します。間に合うかどうかの基準は学校から寝屋川市駅まで歩いて約14分として判断しています。急ぐ必要がない場合(電車の到着が現在時刻から10分未満で確実に間に合わない場合)、文字は赤色で表示されます。\n",
        "下校用なので11時以降の時刻表しか設定していません。\n",
        "平日限定のものとなっているため、土曜日、日曜日、祝日に使用しても対応しません。\n",
        "\n",
        "## **操作方法**\n",
        "\n",
        "実行するだけで大丈夫です。\n",
        "時刻表を変更することもできます。\n",
        "\n",
        "## **制作者のコメント**\n",
        "\n",
        "学校から駅へ小走りで行って、到着ぎりぎりで電車が来る。ということが今まで何度もあったので、それを無くしたいと思いこのプログラムを作りました。\n",
        "このプログラムは、平日の寝屋川市から中之島方面で萱島駅に止まる電車の時刻しか登録していないのでほぼ自分専用となっています。\n",
        "timeモジュールを使って現在時刻や電車の到着時刻を表示するのに最も苦労しました。\n",
        "また、バグが非常に多かったので修正するのにも多くの時間を費やしました。\n",
        "\n",
        "\n",
        "## **作成時間**\n",
        "\n",
        "作成時間：**約25時間**\n"
      ],
      "metadata": {
        "id": "BNb7I1FCMlFJ"
      }
    },
    {
      "cell_type": "code",
      "source": [
        "#@title 初期化 ( %reset -f )\n",
        "%reset -f"
      ],
      "metadata": {
        "id": "NGuL7doEPtzI"
      },
      "execution_count": null,
      "outputs": []
    },
    {
      "cell_type": "code",
      "source": [
        "#@title サブ処理(各種ライブラリのインポート)\n",
        "\n",
        "#@markdown **■ datetime モジュール：日付と時刻についての操作を行うことができる。**\n",
        "\n",
        "#@markdown **■ pytz モジュール：日本のタイムゾーン情報を得ることができる。**\n",
        "\n",
        "#@markdown **■ time モジュール：現在時刻を得たり、処理を一時停止させたりすることができる。**\n",
        "\n",
        "#@markdown **■ IPython.display モジュール：IPython環境でのテキストなどの表示を行う。**\n",
        "\n",
        "#@markdown ・display 関数：コードの実行結果をIPython環境の出力セルに表示することができる。\n",
        "\n",
        "#@markdown ・HTMLクラス：HTMLタグを使用してテキストの装飾をすることができる。\n",
        "\n",
        "#@markdown ・clear_output 関数：IPython環境の出力をリセットすることができる。\n",
        "\n",
        "#プログラム\n",
        "import datetime\n",
        "import pytz\n",
        "import time\n",
        "from IPython.display import display, HTML, clear_output\n"
      ],
      "metadata": {
        "id": "mrFGdchoP2dL"
      },
      "execution_count": null,
      "outputs": []
    },
    {
      "cell_type": "code",
      "source": [
        "#@title サブ処理1(次の次の電車の時刻を求める関数の定義)\n",
        "\n",
        "def get_next_next_train_time(now, timetable):\n",
        "    japan_timezone = pytz.timezone('Asia/Tokyo')  #東京のタイムゾーン情報を取り入れる\n",
        "    next_next_train = None #\n",
        "\n",
        "    for time_str in timetable:\n",
        "        train_time = datetime.datetime.strptime(time_str, '%H:%M')\n",
        "        train_time = japan_timezone.localize(train_time).replace(year=now.year, month=now.month, day=now.day) #次の次に到着する電車の時刻と現在の年、月、日を合わせる\n",
        "\n",
        "        if train_time.time() > now.time():\n",
        "            if next_next_train is None:\n",
        "               next_next_train = train_time\n",
        "            elif train_time < next_next_train:\n",
        "                 next_next_train = train_time\n",
        "\n",
        "    return next_next_train"
      ],
      "metadata": {
        "id": "8e9B2bzw4SLV"
      },
      "execution_count": null,
      "outputs": []
    },
    {
      "cell_type": "code",
      "source": [
        "#@title サブ処理2(メインの処理を行う関数の定義)\n",
        "\n",
        "def get_time():\n",
        "    japan_timezone = pytz.timezone('Asia/Tokyo') #東京のタイムゾーン情報を取り入れる\n",
        "    now = datetime.datetime.now(japan_timezone)  #現在時刻(now)を日本時間にする\n",
        "\n",
        "    time_text = (f'現在時刻:{now.hour}時{now.minute}分{now.second}秒') #時計\n",
        "\n",
        "    # 中之島方面電車の時刻表(急行を除く)　(変更可能)\n",
        "    timetable = [\n",
        "        '11:10', '11:19', '11:28', '11:39', '11:48', '11:57', '12:10', '12:18', '12:27', '12:40', '12:48', '12:57',\n",
        "        '13:10', '13:18', '13:27', '13:40', '13:49', '13:57', '14:10', '14:19', '14:27', '14:40', '14:49', '14:57',\n",
        "        '15:10', '15:19', '15:29', '15:42', '15:54', '16:06', '16:18', '16:30', '16:42', '16:50', '16:54', '17:02',\n",
        "        '17:06', '17:14', '17:18', '17:26', '17:30', '17:39', '17:42', '17:50', '17:54', '18:03', '18:10', '18:20',\n",
        "        '18:27', '18:34', '18:40', '18:44', '18:53', '19:01', '19:09', '19:19', '19:30', '19:36', '19:41', '19:49',\n",
        "        '19:52', '20:01', '20:05', '20:17', '20:26', '20:29', '20:41', '20:53', '21:05', '21:17', '21:29', '21:41',\n",
        "        '21:54', '22:06', '22:21', '22:35', '22:51', '23:07', '23:22', '23:40', '23:57'\n",
        "      ]\n",
        "    next_train = None\n",
        "    for time_str in timetable:\n",
        "        train_time = datetime.datetime.strptime(time_str, '%H:%M')\n",
        "        train_time = japan_timezone.localize(train_time).replace(year=now.year, month=now.month, day=now.day) #次に到着する電車の時刻と現在の年、月、日を合わせる\n",
        "\n",
        "        #到着時刻が現在時刻より先であればそれをnext_trainとする\n",
        "        if train_time.time() > now.time():\n",
        "            next_train = train_time\n",
        "            break\n",
        "\n",
        "    next_next_train = None\n",
        "    if next_train:\n",
        "        #サブ処理1で定義した関数を使い次の次の電車の時刻を求める\n",
        "        next_next_train = get_next_next_train_time(next_train, timetable)\n",
        "\n",
        "    train_text = \"\"\n",
        "\n",
        "    if next_train:\n",
        "        #次のとその次の電車が何分後か求める\n",
        "        time_difference = next_train - now\n",
        "        minutes_until_next_train = int(time_difference.total_seconds() // 60)\n",
        "        train_text = (f'次の電車まで 約{minutes_until_next_train+20} 分後、')\n",
        "        if 10 > minutes_until_next_train+20:\n",
        "            train_text = (f'<span style=\"color: red;\">{train_text}</span>')\n",
        "        if next_next_train:\n",
        "            time_difference_next_next = next_next_train - now\n",
        "            minutes_until_next_next_train = int(time_difference_next_next.total_seconds() // 60)\n",
        "            train_text += (f'\\n1本後の電車まで 約{minutes_until_next_next_train+20} 分後')\n",
        "            if 10 > minutes_until_next_next_train+20:\n",
        "                train_text = (f'<span style=\"color: red;\">{train_text}</span>')\n",
        "    #HTMLで表示\n",
        "    display(HTML(f'<h1>{time_text}</h1>'))\n",
        "    display(HTML(f'<h1>{train_text}</h1>'))\n",
        "\n",
        "    #到着時刻によってどうすべきかを表示\n",
        "    if next_train and minutes_until_next_train+20 >= 14:\n",
        "        display(HTML('<h1>おそらく間に合うでしょう。</h1>'))\n",
        "    elif next_train and 14>minutes_until_next_train+20 >= 10:\n",
        "        display(HTML('<h1>急げば間に合うかもしれません。</h1>'))\n",
        "    elif next_train and 10 > minutes_until_next_train+20:\n",
        "        if next_next_train is not None:\n",
        "            if minutes_until_next_next_train+20 >= 14:\n",
        "                display(HTML('<h1>次の電車は間に合いません。1本後の電車であれば間に合うでしょう。</h1>'))\n",
        "            elif 14 > minutes_until_next_next_train+20 >= 10:\n",
        "                display(HTML('<h1>次の電車は間に合いません。1本後の電車になら乗れるかもしれません。</h1>'))\n",
        "            else:\n",
        "                display(HTML('<h1>次の電車も、もう一つ次の電車も間に合いません。</h1>'))\n",
        "        else:\n",
        "            display(HTML('<h1>次が最後の電車です。急いでください。</h1>'))\n",
        "    else:\n",
        "      display(HTML('<h1>今日の電車はもうありません。</h1>'))"
      ],
      "metadata": {
        "id": "Ax_GnaxV4k_S"
      },
      "execution_count": null,
      "outputs": []
    },
    {
      "cell_type": "code",
      "source": [
        "#@title メイン処理\n",
        "\n",
        "# サブ処理2を1秒おきに繰り返す\n",
        "while True:\n",
        "    get_time()\n",
        "    time.sleep(1)\n",
        "    clear_output(wait=True)"
      ],
      "metadata": {
        "colab": {
          "base_uri": "https://localhost:8080/",
          "height": 394
        },
        "id": "3hbrnlgjPcf4",
        "outputId": "6987d168-33a4-4346-95dd-4212c3f8b137"
      },
      "execution_count": null,
      "outputs": [
        {
          "output_type": "display_data",
          "data": {
            "text/plain": [
              "<IPython.core.display.HTML object>"
            ],
            "text/html": [
              "<h1>現在時刻:13時38分23秒</h1>"
            ]
          },
          "metadata": {}
        },
        {
          "output_type": "display_data",
          "data": {
            "text/plain": [
              "<IPython.core.display.HTML object>"
            ],
            "text/html": [
              "<h1><span style=\"color: red;\">次の電車まで 約2 分後、</span>\n",
              "1本後の電車まで 約11 分後</h1>"
            ]
          },
          "metadata": {}
        },
        {
          "output_type": "display_data",
          "data": {
            "text/plain": [
              "<IPython.core.display.HTML object>"
            ],
            "text/html": [
              "<h1>次の電車は間に合いません。1本後の電車になら乗れるかもしれません。</h1>"
            ]
          },
          "metadata": {}
        },
        {
          "output_type": "error",
          "ename": "KeyboardInterrupt",
          "evalue": "ignored",
          "traceback": [
            "\u001b[0;31m---------------------------------------------------------------------------\u001b[0m",
            "\u001b[0;31mKeyboardInterrupt\u001b[0m                         Traceback (most recent call last)",
            "\u001b[0;32m<ipython-input-5-fb0250b834a4>\u001b[0m in \u001b[0;36m<cell line: 4>\u001b[0;34m()\u001b[0m\n\u001b[1;32m      4\u001b[0m \u001b[0;32mwhile\u001b[0m \u001b[0;32mTrue\u001b[0m\u001b[0;34m:\u001b[0m\u001b[0;34m\u001b[0m\u001b[0;34m\u001b[0m\u001b[0m\n\u001b[1;32m      5\u001b[0m     \u001b[0mget_time\u001b[0m\u001b[0;34m(\u001b[0m\u001b[0;34m)\u001b[0m\u001b[0;34m\u001b[0m\u001b[0;34m\u001b[0m\u001b[0m\n\u001b[0;32m----> 6\u001b[0;31m     \u001b[0mtime\u001b[0m\u001b[0;34m.\u001b[0m\u001b[0msleep\u001b[0m\u001b[0;34m(\u001b[0m\u001b[0;36m1\u001b[0m\u001b[0;34m)\u001b[0m\u001b[0;34m\u001b[0m\u001b[0;34m\u001b[0m\u001b[0m\n\u001b[0m\u001b[1;32m      7\u001b[0m     \u001b[0mclear_output\u001b[0m\u001b[0;34m(\u001b[0m\u001b[0mwait\u001b[0m\u001b[0;34m=\u001b[0m\u001b[0;32mTrue\u001b[0m\u001b[0;34m)\u001b[0m\u001b[0;34m\u001b[0m\u001b[0;34m\u001b[0m\u001b[0m\n",
            "\u001b[0;31mKeyboardInterrupt\u001b[0m: "
          ]
        }
      ]
    }
  ]
}